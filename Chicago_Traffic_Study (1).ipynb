{
 "cells": [
  {
   "cell_type": "markdown",
   "id": "d06bf248",
   "metadata": {},
   "source": [
    "# Chicago Traffic Incidents Involving Cyclists/Pedestrians in Last 12 Months\n",
    "### Prepared by: Michael Goodman\n",
    ">### Data Source: Chicago Data Portal\n",
    ">#### Vehicles API Documentation: https://dev.socrata.com/foundry/data.cityofchicago.org/68nd-jvt3\n",
    ">#### People API Documentation: https://dev.socrata.com/foundry/data.cityofchicago.org/u6pd-qa9d"
   ]
  },
  {
   "cell_type": "markdown",
   "id": "d6e2cc99",
   "metadata": {},
   "source": [
    "### Libraries to Import"
   ]
  },
  {
   "cell_type": "code",
   "execution_count": 378,
   "id": "53c9bd9a",
   "metadata": {},
   "outputs": [
    {
     "name": "stdout",
     "output_type": "stream",
     "text": [
      "completed at 2023-01-05 20:56:54.399284\n"
     ]
    }
   ],
   "source": [
    "#Imports\n",
    "#use pip to install any needed libraries below\n",
    "import pandas as pd\n",
    "import requests\n",
    "import json\n",
    "import time\n",
    "import matplotlib.pyplot as plt\n",
    "from datetime import datetime\n",
    "from datetime import date\n",
    "from dateutil.relativedelta import relativedelta\n",
    "from sodapy import Socrata\n",
    "from cdp_secrets import *\n",
    "print('completed at ' + str(datetime.now()))"
   ]
  },
  {
   "cell_type": "markdown",
   "id": "7b268251",
   "metadata": {},
   "source": [
    "### Chicago Data Portal Connection"
   ]
  },
  {
   "cell_type": "code",
   "execution_count": 379,
   "id": "aa10f857",
   "metadata": {},
   "outputs": [
    {
     "name": "stdout",
     "output_type": "stream",
     "text": [
      "completed at 2023-01-05 20:56:58.586951\n"
     ]
    }
   ],
   "source": [
    "#Constants\n",
    "chicago_url=\"data.cityofchicago.org\"\n",
    "vehicle_api_root=\"68nd-jvt3\"\n",
    "people_api_root=\"u6pd-qa9d\"\n",
    "crash_api_root=\"85ca-t3if\"\n",
    "district_root=\"z8bn-74gv\"\n",
    "beat_root=\"n9it-hstw\"\n",
    "\n",
    "#Chicago Data Portal Connection\n",
    "cdp = Socrata(chicago_url,\n",
    "                 token,\n",
    "                 username,\n",
    "                 password)\n",
    "print('completed at ' + str(datetime.now()))"
   ]
  },
  {
   "cell_type": "markdown",
   "id": "8b1e9022",
   "metadata": {},
   "source": [
    "### Function to call API and format to DataFrame"
   ]
  },
  {
   "cell_type": "code",
   "execution_count": 380,
   "id": "7964c31f",
   "metadata": {},
   "outputs": [
    {
     "name": "stdout",
     "output_type": "stream",
     "text": [
      "completed at 2023-01-05 20:57:02.064308\n"
     ]
    }
   ],
   "source": [
    "def callAPI(root: str, filter: str) -> pd.DataFrame:\n",
    "    results=cdp.get(root, query=filter)\n",
    "    df=pd.DataFrame.from_records(results)\n",
    "    return df\n",
    "print('completed at ' + str(datetime.now()))"
   ]
  },
  {
   "cell_type": "markdown",
   "id": "225eb5f3",
   "metadata": {},
   "source": [
    "### Create string variables for today and one year ago"
   ]
  },
  {
   "cell_type": "code",
   "execution_count": 381,
   "id": "cea5f661",
   "metadata": {},
   "outputs": [
    {
     "name": "stdout",
     "output_type": "stream",
     "text": [
      "2023-01-05\n",
      "2022-01-05\n",
      "completed at 2023-01-05 20:57:04.324759\n"
     ]
    }
   ],
   "source": [
    "#Get dates for the last 12 months\n",
    "today = datetime.now().strftime(\"%Y-%m-%d\")\n",
    "\n",
    "year_ago = (datetime.now() - relativedelta(years=1)).strftime(\"%Y-%m-%d\")\n",
    "print(today)\n",
    "print(year_ago)\n",
    "print('completed at ' + str(datetime.now()))"
   ]
  },
  {
   "cell_type": "markdown",
   "id": "6d870925",
   "metadata": {},
   "source": [
    "### Queries for API Calls. Filters based on project specification"
   ]
  },
  {
   "cell_type": "code",
   "execution_count": 404,
   "id": "7f0f3da2",
   "metadata": {},
   "outputs": [
    {
     "name": "stdout",
     "output_type": "stream",
     "text": [
      "completed at 2023-01-05 21:19:20.058851\n"
     ]
    }
   ],
   "source": [
    "#limit required for SoQL query, as we are filtering for one year limit is set high to capture all records\n",
    "limit='1000000000'\n",
    "\n",
    "#Filters use SQL structure, some where clauses use a different format. Refer to API Documentation for correct syntax\n",
    "vehicle_filter= \"\"\"Select crash_record_id,crash_date,make,model,vehicle_type \n",
    "                    where vehicle_type is not null and crash_date between '%s' and '%s'\n",
    "                    limit %s\"\"\"%(year_ago,today,limit) \n",
    "\n",
    "people_filter= \"\"\"Select person_id,crash_record_id,crash_date,person_type,age,sex,\n",
    "                injury_classification,pedpedal_action,pedpedal_visibility,pedpedal_location\n",
    "                Where CRASH_DATE between '%s' and '%s' and\n",
    "                (person_type='PEDESTRIAN' or person_type='BICYCLE') limit %s\"\"\"% (year_ago,today,limit)\n",
    "\n",
    "crash_filter=\"\"\"Select crash_record_id,crash_date,beat_of_occurrence as beat_num,crash_month,crash_day_of_week,location\n",
    "                where crash_date between '%s' and '%s' limit %s\"\"\"% (year_ago,today,limit)\n",
    "\n",
    "district_filter=\"\"\"Select distinct district,district_name limit 1000\"\"\"\n",
    "\n",
    "beat_filter=\"\"\"Select beat_num,district limit 300\"\"\"\n",
    "\n",
    "print('completed at ' + str(datetime.now()))"
   ]
  },
  {
   "cell_type": "markdown",
   "id": "d840ce86",
   "metadata": {},
   "source": [
    "### Create DataFrames from API Results"
   ]
  },
  {
   "cell_type": "code",
   "execution_count": 383,
   "id": "02a320de",
   "metadata": {},
   "outputs": [
    {
     "name": "stdout",
     "output_type": "stream",
     "text": [
      "completed at 2023-01-05 20:57:11.596833\n"
     ]
    }
   ],
   "source": [
    "#People Table\n",
    "people_df=callAPI(people_api_root,people_filter)\n",
    "\n",
    "print('completed at ' + str(datetime.now()))"
   ]
  },
  {
   "cell_type": "code",
   "execution_count": 384,
   "id": "69f61193",
   "metadata": {},
   "outputs": [
    {
     "name": "stdout",
     "output_type": "stream",
     "text": [
      "completed at 2023-01-05 20:57:19.540316\n"
     ]
    }
   ],
   "source": [
    "#Vehicle Table\n",
    "vehicle_df=callAPI(vehicle_api_root,vehicle_filter)\n",
    "\n",
    "print('completed at ' + str(datetime.now()))"
   ]
  },
  {
   "cell_type": "code",
   "execution_count": 406,
   "id": "c3508547",
   "metadata": {},
   "outputs": [
    {
     "name": "stdout",
     "output_type": "stream",
     "text": [
      "completed at 2023-01-05 21:19:58.003449\n"
     ]
    }
   ],
   "source": [
    "#Crash Table\n",
    "crash_df=callAPI(crash_api_root,crash_filter)\n",
    "\n",
    "print('completed at ' + str(datetime.now()))"
   ]
  },
  {
   "cell_type": "code",
   "execution_count": 415,
   "id": "9ac70501",
   "metadata": {},
   "outputs": [
    {
     "name": "stdout",
     "output_type": "stream",
     "text": [
      "    beat_num district   district_name\n",
      "0       1713       17     Albany Park\n",
      "1       3100       31             NaN\n",
      "2       1651       16  Jefferson Park\n",
      "3       1914       19       Town Hall\n",
      "4       1915       19       Town Hall\n",
      "..       ...      ...             ...\n",
      "272      314        3  Grand Crossing\n",
      "273      825        8    Chicago Lawn\n",
      "274      313        3  Grand Crossing\n",
      "275      823        8    Chicago Lawn\n",
      "276      312        3  Grand Crossing\n",
      "\n",
      "[277 rows x 3 columns]\n",
      "completed at 2023-01-05 21:28:30.851114\n"
     ]
    }
   ],
   "source": [
    "#Beat To District Key Table\n",
    "\n",
    "#Police Beat\n",
    "beat_df=callAPI(beat_root,beat_filter)\n",
    "\n",
    "#Remove leading 0 from district field\n",
    "beat_df['district']=pd.to_numeric(beat_df['district'])\n",
    "beat_df['district']=beat_df['district'].apply(lambda x: str(x))\n",
    "\n",
    "#Remove leading 0 from beat_num field\n",
    "beat_df['beat_num']=pd.to_numeric(beat_df['beat_num'])\n",
    "beat_df['beat_num']=beat_df['beat_num'].apply(lambda x: str(x))\n",
    "\n",
    "#District table\n",
    "district_df=callAPI(district_root,district_filter)\n",
    "\n",
    "#join together to create matching table\n",
    "district_key=pd.merge(beat_df,district_df,on='district',how='left')\n",
    "\n",
    "print(district_key)\n",
    "print('completed at ' + str(datetime.now()))"
   ]
  },
  {
   "cell_type": "markdown",
   "id": "0348e8d1",
   "metadata": {},
   "source": [
    "### Join DataFrames to create project Data Model"
   ]
  },
  {
   "cell_type": "code",
   "execution_count": 416,
   "id": "0ee01cd0",
   "metadata": {
    "scrolled": true
   },
   "outputs": [
    {
     "name": "stdout",
     "output_type": "stream",
     "text": [
      "completed at 2023-01-05 21:28:38.212126\n"
     ]
    }
   ],
   "source": [
    "#Join People and Vehicle data sets on crash_record_id\n",
    "people_vehicle=pd.merge(people_df,vehicle_df[['crash_record_id','make','model','vehicle_type']], on='crash_record_id', how='left')\n",
    "#print(people_vehicle)\n",
    "print('completed at ' + str(datetime.now()))"
   ]
  },
  {
   "cell_type": "code",
   "execution_count": 417,
   "id": "ecb2b257",
   "metadata": {},
   "outputs": [
    {
     "name": "stdout",
     "output_type": "stream",
     "text": [
      "completed at 2023-01-05 21:28:40.032027\n"
     ]
    }
   ],
   "source": [
    "#Join prior dataset with crash information\n",
    "crash_pv=pd.merge(people_vehicle,crash_df, on='crash_record_id', how='left')\n",
    "#print(crash_pv)\n",
    "print('completed at ' + str(datetime.now()))"
   ]
  },
  {
   "cell_type": "code",
   "execution_count": 418,
   "id": "3019042b",
   "metadata": {},
   "outputs": [
    {
     "name": "stdout",
     "output_type": "stream",
     "text": [
      "     person_id                                    crash_record_id  \\\n",
      "0     O1493509  1f0cafca3ea46ae86def5392688733931c7c8157bb276e...   \n",
      "1     O1493466  05463f20a4cb41d431ca63c785170683919a6c24043473...   \n",
      "2     O1493480  d70115d85901528502c8e3760835549b9fd48e7a438863...   \n",
      "3     O1493407  d8987c29a77244ac4a4ecaa2b041f627eab86d2243232a...   \n",
      "4     O1493351  58c7e9c0cba138b804a300dbbdea54437bccef582f08eb...   \n",
      "...        ...                                                ...   \n",
      "4671  O1258162  38bbc2843a7e6220695848659de6999284479481708a4e...   \n",
      "4672  O1259041  49edea243c3b8a868504f514e4627089ac1335b77b1be3...   \n",
      "4673  O1259041  49edea243c3b8a868504f514e4627089ac1335b77b1be3...   \n",
      "4674  O1257916  7b513e0b02b824ba9b92db19e5a7ddb60949b22444e088...   \n",
      "4675  O1260978  b6071c55be86f528b8169b3cc2d27855158c7077d93242...   \n",
      "\n",
      "                 crash_date_x person_type  age sex     injury_classification  \\\n",
      "0     2023-01-04T19:15:00.000  PEDESTRIAN   49   M                     FATAL   \n",
      "1     2023-01-04T18:50:00.000     BICYCLE   59   F   NO INDICATION OF INJURY   \n",
      "2     2023-01-04T17:45:00.000  PEDESTRIAN   14   M  NONINCAPACITATING INJURY   \n",
      "3     2023-01-04T16:07:00.000  PEDESTRIAN   19   M     REPORTED, NOT EVIDENT   \n",
      "4     2023-01-04T14:38:00.000  PEDESTRIAN   70   F  NONINCAPACITATING INJURY   \n",
      "...                       ...         ...  ...  ..                       ...   \n",
      "4671  2022-01-05T14:55:00.000  PEDESTRIAN   18   M  NONINCAPACITATING INJURY   \n",
      "4672  2022-01-05T14:30:00.000  PEDESTRIAN   87   M  NONINCAPACITATING INJURY   \n",
      "4673  2022-01-05T14:30:00.000  PEDESTRIAN   87   M  NONINCAPACITATING INJURY   \n",
      "4674  2022-01-05T12:20:00.000  PEDESTRIAN   29   M     REPORTED, NOT EVIDENT   \n",
      "4675  2022-01-05T10:00:00.000  PEDESTRIAN  NaN   M  NONINCAPACITATING INJURY   \n",
      "\n",
      "                                   pedpedal_action      pedpedal_visibility  \\\n",
      "0                                     WITH TRAFFIC  NO CONTRASTING CLOTHING   \n",
      "1                                     WITH TRAFFIC  OTHER LIGHT SOURCE USED   \n",
      "2                              NOT AT INTERSECTION  NO CONTRASTING CLOTHING   \n",
      "3                           CROSSING - WITH SIGNAL  NO CONTRASTING CLOTHING   \n",
      "4         CROSSING - NO CONTROLS (AT INTERSECTION)  NO CONTRASTING CLOTHING   \n",
      "...                                            ...                      ...   \n",
      "4671                                    UNKNOWN/NA  NO CONTRASTING CLOTHING   \n",
      "4672                                  OTHER ACTION  NO CONTRASTING CLOTHING   \n",
      "4673                                  OTHER ACTION  NO CONTRASTING CLOTHING   \n",
      "4674  CROSSING - NO CONTROLS (NOT AT INTERSECTION)      REFLECTIVE MATERIAL   \n",
      "4675                     CROSSING - AGAINST SIGNAL  NO CONTRASTING CLOTHING   \n",
      "\n",
      "     pedpedal_location     make                         model  \\\n",
      "0           UNKNOWN/NA   JAGUAR  OTHER (EXPLAIN IN NARRATIVE)   \n",
      "1           IN ROADWAY   TOYOTA                         PRIUS   \n",
      "2           IN ROADWAY    DODGE                       CALIBER   \n",
      "3           UNKNOWN/NA      KIA                          SOUL   \n",
      "4           IN ROADWAY   NISSAN                        MAXIMA   \n",
      "...                ...      ...                           ...   \n",
      "4671        UNKNOWN/NA    VOLVO  OTHER (EXPLAIN IN NARRATIVE)   \n",
      "4672    NOT IN ROADWAY  UNKNOWN  OTHER (EXPLAIN IN NARRATIVE)   \n",
      "4673    NOT IN ROADWAY    BUICK                      LACROSSE   \n",
      "4674      IN CROSSWALK    HONDA                          CR-V   \n",
      "4675      IN CROSSWALK  HYUNDAI  OTHER (EXPLAIN IN NARRATIVE)   \n",
      "\n",
      "                     vehicle_type             crash_date_y beat_num  \\\n",
      "0     SPORT UTILITY VEHICLE (SUV)  2023-01-04T19:15:00.000     2233   \n",
      "1                       PASSENGER  2023-01-04T18:50:00.000     2033   \n",
      "2                       PASSENGER  2023-01-04T17:45:00.000     1631   \n",
      "3                       PASSENGER  2023-01-04T16:07:00.000     1632   \n",
      "4                       PASSENGER  2023-01-04T14:38:00.000     2024   \n",
      "...                           ...                      ...      ...   \n",
      "4671      TRACTOR W/ SEMI-TRAILER  2022-01-05T14:55:00.000      834   \n",
      "4672                   UNKNOWN/NA  2022-01-05T14:30:00.000      413   \n",
      "4673                    PASSENGER  2022-01-05T14:30:00.000      413   \n",
      "4674                    PASSENGER  2022-01-05T12:20:00.000     1911   \n",
      "4675                    PASSENGER  2022-01-05T10:00:00.000      122   \n",
      "\n",
      "     crash_month crash_day_of_week  \\\n",
      "0              1                 4   \n",
      "1              1                 4   \n",
      "2              1                 4   \n",
      "3              1                 4   \n",
      "4              1                 4   \n",
      "...          ...               ...   \n",
      "4671           1                 4   \n",
      "4672           1                 4   \n",
      "4673           1                 4   \n",
      "4674           1                 4   \n",
      "4675           1                 4   \n",
      "\n",
      "                                               location district  \\\n",
      "0     {'type': 'Point', 'coordinates': [-87.64285906...       22   \n",
      "1     {'type': 'Point', 'coordinates': [-87.65963393...       20   \n",
      "2     {'type': 'Point', 'coordinates': [-87.80712948...       16   \n",
      "3     {'type': 'Point', 'coordinates': [-87.80644025...       16   \n",
      "4     {'type': 'Point', 'coordinates': [-87.65711430...       20   \n",
      "...                                                 ...      ...   \n",
      "4671  {'type': 'Point', 'coordinates': [-87.74122014...        8   \n",
      "4672  {'type': 'Point', 'coordinates': [-87.59645495...        4   \n",
      "4673  {'type': 'Point', 'coordinates': [-87.59645495...        4   \n",
      "4674  {'type': 'Point', 'coordinates': [-87.68881524...       19   \n",
      "4675  {'type': 'Point', 'coordinates': [-87.63541603...        1   \n",
      "\n",
      "       district_name  \n",
      "0        Morgan Park  \n",
      "1            Lincoln  \n",
      "2     Jefferson Park  \n",
      "3     Jefferson Park  \n",
      "4            Lincoln  \n",
      "...              ...  \n",
      "4671    Chicago Lawn  \n",
      "4672   South Chicago  \n",
      "4673   South Chicago  \n",
      "4674       Town Hall  \n",
      "4675         Central  \n",
      "\n",
      "[4676 rows x 20 columns]\n",
      "completed at 2023-01-05 21:28:42.382603\n"
     ]
    }
   ],
   "source": [
    "#Join prior dataset with district ID and Name\n",
    "merge_df=pd.merge(crash_pv,district_key, on='beat_num', how='left')\n",
    "#Declare final data model\n",
    "model=merge_df\n",
    "print(model)\n",
    "\n",
    "print('completed at ' + str(datetime.now()))"
   ]
  },
  {
   "cell_type": "markdown",
   "id": "fb560a12",
   "metadata": {},
   "source": [
    "### Print to Excel"
   ]
  },
  {
   "cell_type": "code",
   "execution_count": 419,
   "id": "e649a0be",
   "metadata": {},
   "outputs": [
    {
     "name": "stdout",
     "output_type": "stream",
     "text": [
      "completed at 2023-01-05 21:28:54.724036\n"
     ]
    }
   ],
   "source": [
    "model.to_excel('traffic_study_model_'+today+'.xlsx',index=True)\n",
    "print('completed at '+str(datetime.now()))"
   ]
  }
 ],
 "metadata": {
  "kernelspec": {
   "display_name": "Python 3 (ipykernel)",
   "language": "python",
   "name": "python3"
  },
  "language_info": {
   "codemirror_mode": {
    "name": "ipython",
    "version": 3
   },
   "file_extension": ".py",
   "mimetype": "text/x-python",
   "name": "python",
   "nbconvert_exporter": "python",
   "pygments_lexer": "ipython3",
   "version": "3.9.12"
  }
 },
 "nbformat": 4,
 "nbformat_minor": 5
}
