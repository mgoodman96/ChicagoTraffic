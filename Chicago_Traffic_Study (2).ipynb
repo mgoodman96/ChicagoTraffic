{
 "cells": [
  {
   "cell_type": "markdown",
   "id": "6bcef204",
   "metadata": {},
   "source": [
    "# Chicago Traffic Incidents Involving Cyclists/Pedestrians in Last 12 Months\n",
    "### Prepared by: Michael Goodman\n",
    ">### Data Source: Chicago Data Portal\n",
    ">#### API Documentation: https://dev.socrata.com/foundry/data.cityofchicago.org/{API_ROOT}\n",
    ">>#### Use the appropriate root from the variables in the documentation URL.\n",
    ">>#### ie. for the documentation of the crash API. You would go to https://dev.socrata.com/foundry/data.cityofchicago.org/85ca-t3if"
   ]
  },
  {
   "cell_type": "markdown",
   "id": "c70a258c",
   "metadata": {},
   "source": [
    "### Libraries to Import"
   ]
  },
  {
   "cell_type": "code",
   "execution_count": 378,
   "id": "0e23b80b",
   "metadata": {},
   "outputs": [
    {
     "name": "stdout",
     "output_type": "stream",
     "text": [
      "completed at 2023-01-05 20:56:54.399284\n"
     ]
    }
   ],
   "source": [
    "#Imports\n",
    "#use pip to install any needed libraries below\n",
    "import pandas as pd\n",
    "import requests\n",
    "import json\n",
    "import time\n",
    "import matplotlib.pyplot as plt\n",
    "from datetime import datetime\n",
    "from datetime import date\n",
    "from dateutil.relativedelta import relativedelta\n",
    "from sodapy import Socrata\n",
    "from cdp_secrets import *\n",
    "print('completed at ' + str(datetime.now()))"
   ]
  },
  {
   "cell_type": "markdown",
   "id": "8f510c42",
   "metadata": {},
   "source": [
    "### Chicago Data Portal Connection"
   ]
  },
  {
   "cell_type": "code",
   "execution_count": 379,
   "id": "67fbc28e",
   "metadata": {},
   "outputs": [
    {
     "name": "stdout",
     "output_type": "stream",
     "text": [
      "completed at 2023-01-05 20:56:58.586951\n"
     ]
    }
   ],
   "source": [
    "#Constants\n",
    "chicago_url=\"data.cityofchicago.org\"\n",
    "vehicle_api_root=\"68nd-jvt3\"\n",
    "people_api_root=\"u6pd-qa9d\"\n",
    "crash_api_root=\"85ca-t3if\"\n",
    "district_root=\"z8bn-74gv\"\n",
    "beat_root=\"n9it-hstw\"\n",
    "\n",
    "#Chicago Data Portal Connection\n",
    "cdp = Socrata(chicago_url,\n",
    "                 token,\n",
    "                 username,\n",
    "                 password)\n",
    "print('completed at ' + str(datetime.now()))"
   ]
  },
  {
   "cell_type": "markdown",
   "id": "c4e4e710",
   "metadata": {},
   "source": [
    "### Function to call API and format to DataFrame"
   ]
  },
  {
   "cell_type": "code",
   "execution_count": 380,
   "id": "f941ca96",
   "metadata": {},
   "outputs": [
    {
     "name": "stdout",
     "output_type": "stream",
     "text": [
      "completed at 2023-01-05 20:57:02.064308\n"
     ]
    }
   ],
   "source": [
    "def callAPI(root: str, filter: str) -> pd.DataFrame:\n",
    "    results=cdp.get(root, query=filter)\n",
    "    df=pd.DataFrame.from_records(results)\n",
    "    return df\n",
    "print('completed at ' + str(datetime.now()))"
   ]
  },
  {
   "cell_type": "markdown",
   "id": "0eb0ec08",
   "metadata": {},
   "source": [
    "### Create string variables for today and one year ago"
   ]
  },
  {
   "cell_type": "code",
   "execution_count": 381,
   "id": "93a425d9",
   "metadata": {},
   "outputs": [
    {
     "name": "stdout",
     "output_type": "stream",
     "text": [
      "2023-01-05\n",
      "2022-01-05\n",
      "completed at 2023-01-05 20:57:04.324759\n"
     ]
    }
   ],
   "source": [
    "#Get dates for the last 12 months\n",
    "today = datetime.now().strftime(\"%Y-%m-%d\")\n",
    "\n",
    "year_ago = (datetime.now() - relativedelta(years=1)).strftime(\"%Y-%m-%d\")\n",
    "print(today)\n",
    "print(year_ago)\n",
    "print('completed at ' + str(datetime.now()))"
   ]
  },
  {
   "cell_type": "markdown",
   "id": "f421dcd8",
   "metadata": {},
   "source": [
    "### Queries for API Calls. Filters based on project specification"
   ]
  },
  {
   "cell_type": "code",
   "execution_count": 404,
   "id": "89ae8916",
   "metadata": {},
   "outputs": [
    {
     "name": "stdout",
     "output_type": "stream",
     "text": [
      "completed at 2023-01-05 21:19:20.058851\n"
     ]
    }
   ],
   "source": [
    "#limit required for SoQL query, as we are filtering for one year limit is set high to capture all records\n",
    "limit='1000000000'\n",
    "\n",
    "#Filters use SQL structure, some where clauses use a different format. Refer to API Documentation for correct syntax\n",
    "vehicle_filter= \"\"\"Select crash_record_id,crash_date,make,model,vehicle_type \n",
    "                    where vehicle_type is not null and crash_date between '%s' and '%s'\n",
    "                    limit %s\"\"\"%(year_ago,today,limit) \n",
    "\n",
    "people_filter= \"\"\"Select person_id,crash_record_id,crash_date,person_type,age,sex,\n",
    "                injury_classification,pedpedal_action,pedpedal_visibility,pedpedal_location\n",
    "                Where CRASH_DATE between '%s' and '%s' and\n",
    "                (person_type='PEDESTRIAN' or person_type='BICYCLE') limit %s\"\"\"% (year_ago,today,limit)\n",
    "\n",
    "crash_filter=\"\"\"Select crash_record_id,crash_date,beat_of_occurrence as beat_num,crash_month,crash_day_of_week,location\n",
    "                where crash_date between '%s' and '%s' limit %s\"\"\"% (year_ago,today,limit)\n",
    "\n",
    "district_filter=\"\"\"Select distinct district,district_name limit 1000\"\"\"\n",
    "\n",
    "beat_filter=\"\"\"Select beat_num,district limit 300\"\"\"\n",
    "\n",
    "print('completed at ' + str(datetime.now()))"
   ]
  },
  {
   "cell_type": "markdown",
   "id": "01bc5d4e",
   "metadata": {},
   "source": [
    "### Create DataFrames from API Results"
   ]
  },
  {
   "cell_type": "code",
   "execution_count": 383,
   "id": "dab31cad",
   "metadata": {},
   "outputs": [
    {
     "name": "stdout",
     "output_type": "stream",
     "text": [
      "completed at 2023-01-05 20:57:11.596833\n"
     ]
    }
   ],
   "source": [
    "#People Table\n",
    "people_df=callAPI(people_api_root,people_filter)\n",
    "\n",
    "print('completed at ' + str(datetime.now()))"
   ]
  },
  {
   "cell_type": "code",
   "execution_count": 384,
   "id": "1fe4840f",
   "metadata": {},
   "outputs": [
    {
     "name": "stdout",
     "output_type": "stream",
     "text": [
      "completed at 2023-01-05 20:57:19.540316\n"
     ]
    }
   ],
   "source": [
    "#Vehicle Table\n",
    "vehicle_df=callAPI(vehicle_api_root,vehicle_filter)\n",
    "\n",
    "print('completed at ' + str(datetime.now()))"
   ]
  },
  {
   "cell_type": "code",
   "execution_count": 406,
   "id": "bcac4db7",
   "metadata": {},
   "outputs": [
    {
     "name": "stdout",
     "output_type": "stream",
     "text": [
      "completed at 2023-01-05 21:19:58.003449\n"
     ]
    }
   ],
   "source": [
    "#Crash Table\n",
    "crash_df=callAPI(crash_api_root,crash_filter)\n",
    "\n",
    "print('completed at ' + str(datetime.now()))"
   ]
  },
  {
   "cell_type": "code",
   "execution_count": 415,
   "id": "850c7451",
   "metadata": {},
   "outputs": [
    {
     "name": "stdout",
     "output_type": "stream",
     "text": [
      "    beat_num district   district_name\n",
      "0       1713       17     Albany Park\n",
      "1       3100       31             NaN\n",
      "2       1651       16  Jefferson Park\n",
      "3       1914       19       Town Hall\n",
      "4       1915       19       Town Hall\n",
      "..       ...      ...             ...\n",
      "272      314        3  Grand Crossing\n",
      "273      825        8    Chicago Lawn\n",
      "274      313        3  Grand Crossing\n",
      "275      823        8    Chicago Lawn\n",
      "276      312        3  Grand Crossing\n",
      "\n",
      "[277 rows x 3 columns]\n",
      "completed at 2023-01-05 21:28:30.851114\n"
     ]
    }
   ],
   "source": [
    "#Beat To District Key Table\n",
    "\n",
    "#Police Beat\n",
    "beat_df=callAPI(beat_root,beat_filter)\n",
    "\n",
    "#Remove leading 0 from district field\n",
    "beat_df['district']=pd.to_numeric(beat_df['district'])\n",
    "beat_df['district']=beat_df['district'].apply(lambda x: str(x))\n",
    "\n",
    "#Remove leading 0 from beat_num field\n",
    "beat_df['beat_num']=pd.to_numeric(beat_df['beat_num'])\n",
    "beat_df['beat_num']=beat_df['beat_num'].apply(lambda x: str(x))\n",
    "\n",
    "#District table\n",
    "district_df=callAPI(district_root,district_filter)\n",
    "\n",
    "#join together to create matching table\n",
    "district_key=pd.merge(beat_df,district_df,on='district',how='left')\n",
    "\n",
    "print(district_key)\n",
    "print('completed at ' + str(datetime.now()))"
   ]
  },
  {
   "cell_type": "markdown",
   "id": "1c2b3b6f",
   "metadata": {},
   "source": [
    "### Join DataFrames to create project Data Model"
   ]
  },
  {
   "cell_type": "code",
   "execution_count": 416,
   "id": "0544b777",
   "metadata": {
    "scrolled": true
   },
   "outputs": [
    {
     "name": "stdout",
     "output_type": "stream",
     "text": [
      "completed at 2023-01-05 21:28:38.212126\n"
     ]
    }
   ],
   "source": [
    "#Join People and Vehicle data sets on crash_record_id\n",
    "people_vehicle=pd.merge(people_df,vehicle_df[['crash_record_id','make','model','vehicle_type']], on='crash_record_id', how='left')\n",
    "#print(people_vehicle)\n",
    "print('completed at ' + str(datetime.now()))"
   ]
  },
  {
   "cell_type": "code",
   "execution_count": 417,
   "id": "c61dbdaa",
   "metadata": {
    "collapsed": true
   },
   "outputs": [
    {
     "name": "stdout",
     "output_type": "stream",
     "text": [
      "completed at 2023-01-05 21:28:40.032027\n"
     ]
    }
   ],
   "source": [
    "#Join prior dataset with crash information\n",
    "crash_pv=pd.merge(people_vehicle,crash_df, on='crash_record_id', how='left')\n",
    "#print(crash_pv)\n",
    "print('completed at ' + str(datetime.now()))"
   ]
  },
  {
   "cell_type": "code",
   "execution_count": 451,
   "id": "08913316",
   "metadata": {},
   "outputs": [
    {
     "name": "stdout",
     "output_type": "stream",
     "text": [
      "Model Field List\n",
      "1.person_id\n",
      "2.crash_record_id\n",
      "3.crash_date_x\n",
      "4.person_type\n",
      "5.age\n",
      "6.sex\n",
      "7.injury_classification\n",
      "8.pedpedal_action\n",
      "9.pedpedal_visibility\n",
      "10.pedpedal_location\n",
      "11.make\n",
      "12.model\n",
      "13.vehicle_type\n",
      "14.crash_date_y\n",
      "15.beat_num\n",
      "16.crash_month\n",
      "17.crash_day_of_week\n",
      "18.location\n",
      "19.district\n",
      "20.district_name\n",
      "completed at 2023-01-05 22:42:02.106522\n"
     ]
    }
   ],
   "source": [
    "#Join prior dataset with district ID and Name\n",
    "merge_df=pd.merge(crash_pv,district_key, on='beat_num', how='left')\n",
    "#Declare final data model\n",
    "model=merge_df\n",
    "#print(model)\n",
    "print(\"Model Field List\")\n",
    "\n",
    "n=1\n",
    "for fields in model.columns:\n",
    "    print(str(n)+'.'+fields)\n",
    "    n+=1\n",
    "\n",
    "print('completed at ' + str(datetime.now()))"
   ]
  },
  {
   "cell_type": "markdown",
   "id": "7d1578ca",
   "metadata": {},
   "source": [
    "### Print to Excel\n",
    "#### Excel ending in \"pbi\" can be imported to business intelligence tool like PowerBI or Tableau for further in-depth analysis. Running this notebook and then refreshing Tableau/PowerBI will ensure the latest data is imported"
   ]
  },
  {
   "cell_type": "code",
   "execution_count": 446,
   "id": "dad7c8af",
   "metadata": {},
   "outputs": [
    {
     "name": "stdout",
     "output_type": "stream",
     "text": [
      "completed at 2023-01-05 22:30:35.196377\n"
     ]
    }
   ],
   "source": [
    "model.to_excel('traffic_study_model_'+today+'.xlsx',index=True)\n",
    "model.to_excel('traffic_study_model_pbi.xlsx',index=True)\n",
    "print('completed at '+str(datetime.now()))"
   ]
  },
  {
   "cell_type": "markdown",
   "id": "5bc7242e",
   "metadata": {},
   "source": [
    "# Analysis"
   ]
  },
  {
   "cell_type": "markdown",
   "id": "fb81a59c",
   "metadata": {},
   "source": [
    ">### Severity of Incidents to Pedestrians and Cyclists"
   ]
  },
  {
   "cell_type": "code",
   "execution_count": 473,
   "id": "39745afd",
   "metadata": {},
   "outputs": [
    {
     "data": {
      "image/png": "[encoded data removed]",
      "text/plain": [
       "<Figure size 432x288 with 1 Axes>"
      ]
     },
     "metadata": {
      "needs_background": "light"
     },
     "output_type": "display_data"
    }
   ],
   "source": [
    "#Cyclist Severity plot\n",
    "temp_df=model[model['person_type']=='BICYCLE']\n",
    "temp_df = model['injury_classification'].value_counts().head(5)\n",
    "temp_df.plot(kind='bar', y='person_id')\n",
    "plt.title('Cyclist Incident Severity ')\n",
    "plt.show()"
   ]
  },
  {
   "cell_type": "code",
   "execution_count": 475,
   "id": "b70e84e8",
   "metadata": {},
   "outputs": [
    {
     "data": {
      "image/png": "[encoded data removed]",
      "text/plain": [
       "<Figure size 432x288 with 1 Axes>"
      ]
     },
     "metadata": {
      "needs_background": "light"
     },
     "output_type": "display_data"
    }
   ],
   "source": [
    "#Pedestrian Severity Plot\n",
    "temp_df=model[model['person_type']=='PEDESTRIAN']\n",
    "temp_df = model['injury_classification'].value_counts().head(5)\n",
    "temp_df.plot(kind='bar', y='person_id')\n",
    "plt.title('Pedestrian Incident Severity ')\n",
    "plt.show()"
   ]
  },
  {
   "cell_type": "markdown",
   "id": "99049bb9",
   "metadata": {},
   "source": [
    ">### Comparison of incident count between Male and Female"
   ]
  },
  {
   "cell_type": "code",
   "execution_count": 459,
   "id": "b6819606",
   "metadata": {},
   "outputs": [
    {
     "data": {
      "image/png": "[encoded data removed]",
      "text/plain": [
       "<Figure size 432x288 with 1 Axes>"
      ]
     },
     "metadata": {
      "needs_background": "light"
     },
     "output_type": "display_data"
    }
   ],
   "source": [
    "temp_df=model[model['person_type']=='BICYCLE']\n",
    "\n",
    "#temp_df=temp_df.groupby('sex').count()\n",
    "temp_df = temp_df['sex'].value_counts().head(2)\n",
    "temp_df.plot(kind='bar', y='person_id')\n",
    "plt.title('Male vs Female Cyclist Victims')\n",
    "plt.show()"
   ]
  },
  {
   "cell_type": "code",
   "execution_count": 460,
   "id": "6fe97ee6",
   "metadata": {},
   "outputs": [
    {
     "data": {
      "image/png": "[encoded data removed]",
      "text/plain": [
       "<Figure size 432x288 with 1 Axes>"
      ]
     },
     "metadata": {
      "needs_background": "light"
     },
     "output_type": "display_data"
    }
   ],
   "source": [
    "temp_df=model[model['person_type']=='PEDESTRIAN']\n",
    "#temp_df=temp_df.groupby('sex').count()\n",
    "temp_df = temp_df['sex'].value_counts().head(2)\n",
    "temp_df.plot(kind='bar', y='person_id')\n",
    "plt.title('Male vs Female Pedestrian Victims')\n",
    "plt.show()"
   ]
  },
  {
   "cell_type": "markdown",
   "id": "4ec7a702",
   "metadata": {},
   "source": [
    ">### Incidents by District"
   ]
  },
  {
   "cell_type": "code",
   "execution_count": 483,
   "id": "a3b05cf4",
   "metadata": {},
   "outputs": [
    {
     "data": {
      "image/png": "[encoded data removed]",
      "text/plain": [
       "<Figure size 432x288 with 1 Axes>"
      ]
     },
     "metadata": {
      "needs_background": "light"
     },
     "output_type": "display_data"
    }
   ],
   "source": [
    "#Incidents by district\n",
    "temp_df = model['district_name'].value_counts().head(25)\n",
    "temp_df.plot(kind='bar', y='person_id')\n",
    "plt.title('Number of Incidents per District ')\n",
    "plt.show()"
   ]
  },
  {
   "cell_type": "code",
   "execution_count": 485,
   "id": "571fbf67",
   "metadata": {},
   "outputs": [
    {
     "data": {
      "image/png": "[encoded data removed]",
      "text/plain": [
       "<Figure size 432x288 with 1 Axes>"
      ]
     },
     "metadata": {
      "needs_background": "light"
     },
     "output_type": "display_data"
    }
   ],
   "source": [
    "#Fatal incidents by district\n",
    "temp_df=model[model['injury_classification']=='FATAL']\n",
    "temp_df = temp_df['district_name'].value_counts().head(25)\n",
    "temp_df.plot(kind='bar', y='person_id')\n",
    "plt.title('Number of Fatalities per District ')\n",
    "plt.show()"
   ]
  },
  {
   "cell_type": "markdown",
   "id": "8e9c0a77",
   "metadata": {},
   "source": [
    ">### Incidents by Vehicle Type"
   ]
  },
  {
   "cell_type": "code",
   "execution_count": 467,
   "id": "7349d602",
   "metadata": {},
   "outputs": [
    {
     "data": {
      "image/png": "[encoded data removed]",
      "text/plain": [
       "<Figure size 432x288 with 1 Axes>"
      ]
     },
     "metadata": {
      "needs_background": "light"
     },
     "output_type": "display_data"
    }
   ],
   "source": [
    "#Incidents by type of car\n",
    "temp_df = model['vehicle_type'].value_counts().head(5)\n",
    "temp_df.plot(kind='bar', y='person_id')\n",
    "plt.title('Number of Incidents per Vehicle Type ')\n",
    "plt.show()"
   ]
  },
  {
   "cell_type": "code",
   "execution_count": 484,
   "id": "aef70a6e",
   "metadata": {},
   "outputs": [
    {
     "data": {
      "image/png": "[encoded data removed]",
      "text/plain": [
       "<Figure size 432x288 with 1 Axes>"
      ]
     },
     "metadata": {
      "needs_background": "light"
     },
     "output_type": "display_data"
    }
   ],
   "source": [
    "#Fatal incidents by type of car\n",
    "temp_df=model[model['injury_classification']=='FATAL']\n",
    "temp_df = temp_df['vehicle_type'].value_counts().head(5)\n",
    "temp_df.plot(kind='bar', y='person_id')\n",
    "plt.title('Number of Fatalities per Vehicle Type ')\n",
    "plt.show()"
   ]
  }
 ],
 "metadata": {
  "kernelspec": {
   "display_name": "Python 3 (ipykernel)",
   "language": "python",
   "name": "python3"
  },
  "language_info": {
   "codemirror_mode": {
    "name": "ipython",
    "version": 3
   },
   "file_extension": ".py",
   "mimetype": "text/x-python",
   "name": "python",
   "nbconvert_exporter": "python",
   "pygments_lexer": "ipython3",
   "version": "3.9.12"
  }
 },
 "nbformat": 4,
 "nbformat_minor": 5
}
