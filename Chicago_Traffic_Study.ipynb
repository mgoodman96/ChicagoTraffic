{
 "cells": [
  {
   "cell_type": "markdown",
   "id": "3a6d9ebd",
   "metadata": {},
   "source": [
    "# Chicago Traffic Incidents Involving Cyclists/Pedestrians in Last 12 Months\n",
    "### Prepared by: Michael Goodman\n",
    ">### Data Source: Chicago Data Portal\n",
    ">#### API Documentation: https://dev.socrata.com/foundry/data.cityofchicago.org/{API_ROOT}\n",
    ">>#### Use the appropriate root from the variables in the documentation URL.\n",
    ">>#### ie. for the documentation of the crash API. You would go to https://dev.socrata.com/foundry/data.cityofchicago.org/85ca-t3if"
   ]
  },
  {
   "cell_type": "markdown",
   "id": "90562103",
   "metadata": {},
   "source": [
    "### Libraries to Import"
   ]
  },
  {
   "cell_type": "code",
   "execution_count": 378,
   "id": "f354de54",
   "metadata": {},
   "outputs": [
    {
     "name": "stdout",
     "output_type": "stream",
     "text": [
      "completed at 2023-01-05 20:56:54.399284\n"
     ]
    }
   ],
   "source": [
    "#Imports\n",
    "#use pip to install any needed libraries below\n",
    "import pandas as pd\n",
    "import requests\n",
    "import json\n",
    "import time\n",
    "import matplotlib.pyplot as plt\n",
    "from datetime import datetime\n",
    "from datetime import date\n",
    "from dateutil.relativedelta import relativedelta\n",
    "from sodapy import Socrata\n",
    "from cdp_secrets import *\n",
    "print('completed at ' + str(datetime.now()))"
   ]
  },
  {
   "cell_type": "markdown",
   "id": "75cac398",
   "metadata": {},
   "source": [
    "### Chicago Data Portal Connection"
   ]
  },
  {
   "cell_type": "code",
   "execution_count": 379,
   "id": "10d46b34",
   "metadata": {},
   "outputs": [
    {
     "name": "stdout",
     "output_type": "stream",
     "text": [
      "completed at 2023-01-05 20:56:58.586951\n"
     ]
    }
   ],
   "source": [
    "#Constants\n",
    "chicago_url=\"data.cityofchicago.org\"\n",
    "vehicle_api_root=\"68nd-jvt3\"\n",
    "people_api_root=\"u6pd-qa9d\"\n",
    "crash_api_root=\"85ca-t3if\"\n",
    "district_root=\"z8bn-74gv\"\n",
    "beat_root=\"n9it-hstw\"\n",
    "\n",
    "#Chicago Data Portal Connection\n",
    "cdp = Socrata(chicago_url,\n",
    "                 token,\n",
    "                 username,\n",
    "                 password)\n",
    "print('completed at ' + str(datetime.now()))"
   ]
  },
  {
   "cell_type": "markdown",
   "id": "4b0a6859",
   "metadata": {},
   "source": [
    "### Function to call API and format to DataFrame"
   ]
  },
  {
   "cell_type": "code",
   "execution_count": 380,
   "id": "8606ba4e",
   "metadata": {},
   "outputs": [
    {
     "name": "stdout",
     "output_type": "stream",
     "text": [
      "completed at 2023-01-05 20:57:02.064308\n"
     ]
    }
   ],
   "source": [
    "def callAPI(root: str, filter: str) -> pd.DataFrame:\n",
    "    results=cdp.get(root, query=filter)\n",
    "    df=pd.DataFrame.from_records(results)\n",
    "    return df\n",
    "print('completed at ' + str(datetime.now()))"
   ]
  },
  {
   "cell_type": "markdown",
   "id": "99b9ee0f",
   "metadata": {},
   "source": [
    "### Create string variables for today and one year ago"
   ]
  },
  {
   "cell_type": "code",
   "execution_count": 381,
   "id": "b7237a2c",
   "metadata": {},
   "outputs": [
    {
     "name": "stdout",
     "output_type": "stream",
     "text": [
      "2023-01-05\n",
      "2022-01-05\n",
      "completed at 2023-01-05 20:57:04.324759\n"
     ]
    }
   ],
   "source": [
    "#Get dates for the last 12 months\n",
    "today = datetime.now().strftime(\"%Y-%m-%d\")\n",
    "\n",
    "year_ago = (datetime.now() - relativedelta(years=1)).strftime(\"%Y-%m-%d\")\n",
    "print(today)\n",
    "print(year_ago)\n",
    "print('completed at ' + str(datetime.now()))"
   ]
  },
  {
   "cell_type": "markdown",
   "id": "9e7989c6",
   "metadata": {},
   "source": [
    "### Queries for API Calls. Filters based on project specification"
   ]
  },
  {
   "cell_type": "code",
   "execution_count": 404,
   "id": "1fd88a75",
   "metadata": {},
   "outputs": [
    {
     "name": "stdout",
     "output_type": "stream",
     "text": [
      "completed at 2023-01-05 21:19:20.058851\n"
     ]
    }
   ],
   "source": [
    "#limit required for SoQL query, as we are filtering for one year limit is set high to capture all records\n",
    "limit='1000000000'\n",
    "\n",
    "#Filters use SQL structure, some where clauses use a different format. Refer to API Documentation for correct syntax\n",
    "vehicle_filter= \"\"\"Select crash_record_id,crash_date,make,model,vehicle_type \n",
    "                    where vehicle_type is not null and crash_date between '%s' and '%s'\n",
    "                    limit %s\"\"\"%(year_ago,today,limit) \n",
    "\n",
    "people_filter= \"\"\"Select person_id,crash_record_id,crash_date,person_type,age,sex,\n",
    "                injury_classification,pedpedal_action,pedpedal_visibility,pedpedal_location\n",
    "                Where CRASH_DATE between '%s' and '%s' and\n",
    "                (person_type='PEDESTRIAN' or person_type='BICYCLE') limit %s\"\"\"% (year_ago,today,limit)\n",
    "\n",
    "crash_filter=\"\"\"Select crash_record_id,crash_date,beat_of_occurrence as beat_num,crash_month,crash_day_of_week,location\n",
    "                where crash_date between '%s' and '%s' limit %s\"\"\"% (year_ago,today,limit)\n",
    "\n",
    "district_filter=\"\"\"Select distinct district,district_name limit 1000\"\"\"\n",
    "\n",
    "beat_filter=\"\"\"Select beat_num,district limit 300\"\"\"\n",
    "\n",
    "print('completed at ' + str(datetime.now()))"
   ]
  },
  {
   "cell_type": "markdown",
   "id": "97e65796",
   "metadata": {},
   "source": [
    "### Create DataFrames from API Results"
   ]
  },
  {
   "cell_type": "code",
   "execution_count": 383,
   "id": "66b064e2",
   "metadata": {},
   "outputs": [
    {
     "name": "stdout",
     "output_type": "stream",
     "text": [
      "completed at 2023-01-05 20:57:11.596833\n"
     ]
    }
   ],
   "source": [
    "#People Table\n",
    "people_df=callAPI(people_api_root,people_filter)\n",
    "\n",
    "print('completed at ' + str(datetime.now()))"
   ]
  },
  {
   "cell_type": "code",
   "execution_count": 384,
   "id": "7aa04e06",
   "metadata": {},
   "outputs": [
    {
     "name": "stdout",
     "output_type": "stream",
     "text": [
      "completed at 2023-01-05 20:57:19.540316\n"
     ]
    }
   ],
   "source": [
    "#Vehicle Table\n",
    "vehicle_df=callAPI(vehicle_api_root,vehicle_filter)\n",
    "\n",
    "print('completed at ' + str(datetime.now()))"
   ]
  },
  {
   "cell_type": "code",
   "execution_count": 406,
   "id": "38a156a4",
   "metadata": {},
   "outputs": [
    {
     "name": "stdout",
     "output_type": "stream",
     "text": [
      "completed at 2023-01-05 21:19:58.003449\n"
     ]
    }
   ],
   "source": [
    "#Crash Table\n",
    "crash_df=callAPI(crash_api_root,crash_filter)\n",
    "\n",
    "print('completed at ' + str(datetime.now()))"
   ]
  },
  {
   "cell_type": "code",
   "execution_count": 415,
   "id": "a6139812",
   "metadata": {},
   "outputs": [
    {
     "name": "stdout",
     "output_type": "stream",
     "text": [
      "    beat_num district   district_name\n",
      "0       1713       17     Albany Park\n",
      "1       3100       31             NaN\n",
      "2       1651       16  Jefferson Park\n",
      "3       1914       19       Town Hall\n",
      "4       1915       19       Town Hall\n",
      "..       ...      ...             ...\n",
      "272      314        3  Grand Crossing\n",
      "273      825        8    Chicago Lawn\n",
      "274      313        3  Grand Crossing\n",
      "275      823        8    Chicago Lawn\n",
      "276      312        3  Grand Crossing\n",
      "\n",
      "[277 rows x 3 columns]\n",
      "completed at 2023-01-05 21:28:30.851114\n"
     ]
    }
   ],
   "source": [
    "#Beat To District Key Table\n",
    "\n",
    "#Police Beat\n",
    "beat_df=callAPI(beat_root,beat_filter)\n",
    "\n",
    "#Remove leading 0 from district field\n",
    "beat_df['district']=pd.to_numeric(beat_df['district'])\n",
    "beat_df['district']=beat_df['district'].apply(lambda x: str(x))\n",
    "\n",
    "#Remove leading 0 from beat_num field\n",
    "beat_df['beat_num']=pd.to_numeric(beat_df['beat_num'])\n",
    "beat_df['beat_num']=beat_df['beat_num'].apply(lambda x: str(x))\n",
    "\n",
    "#District table\n",
    "district_df=callAPI(district_root,district_filter)\n",
    "\n",
    "#join together to create matching table\n",
    "district_key=pd.merge(beat_df,district_df,on='district',how='left')\n",
    "\n",
    "print(district_key)\n",
    "print('completed at ' + str(datetime.now()))"
   ]
  },
  {
   "cell_type": "markdown",
   "id": "3aed8356",
   "metadata": {},
   "source": [
    "### Join DataFrames to create project Data Model"
   ]
  },
  {
   "cell_type": "code",
   "execution_count": 416,
   "id": "69f4b4d9",
   "metadata": {
    "scrolled": true
   },
   "outputs": [
    {
     "name": "stdout",
     "output_type": "stream",
     "text": [
      "completed at 2023-01-05 21:28:38.212126\n"
     ]
    }
   ],
   "source": [
    "#Join People and Vehicle data sets on crash_record_id\n",
    "people_vehicle=pd.merge(people_df,vehicle_df[['crash_record_id','make','model','vehicle_type']], on='crash_record_id', how='left')\n",
    "#print(people_vehicle)\n",
    "print('completed at ' + str(datetime.now()))"
   ]
  },
  {
   "cell_type": "code",
   "execution_count": 417,
   "id": "b9876b0b",
   "metadata": {
    "collapsed": true
   },
   "outputs": [
    {
     "name": "stdout",
     "output_type": "stream",
     "text": [
      "completed at 2023-01-05 21:28:40.032027\n"
     ]
    }
   ],
   "source": [
    "#Join prior dataset with crash information\n",
    "crash_pv=pd.merge(people_vehicle,crash_df, on='crash_record_id', how='left')\n",
    "#print(crash_pv)\n",
    "print('completed at ' + str(datetime.now()))"
   ]
  },
  {
   "cell_type": "code",
   "execution_count": 451,
   "id": "0a37b1e1",
   "metadata": {},
   "outputs": [
    {
     "name": "stdout",
     "output_type": "stream",
     "text": [
      "Model Field List\n",
      "1.person_id\n",
      "2.crash_record_id\n",
      "3.crash_date_x\n",
      "4.person_type\n",
      "5.age\n",
      "6.sex\n",
      "7.injury_classification\n",
      "8.pedpedal_action\n",
      "9.pedpedal_visibility\n",
      "10.pedpedal_location\n",
      "11.make\n",
      "12.model\n",
      "13.vehicle_type\n",
      "14.crash_date_y\n",
      "15.beat_num\n",
      "16.crash_month\n",
      "17.crash_day_of_week\n",
      "18.location\n",
      "19.district\n",
      "20.district_name\n",
      "completed at 2023-01-05 22:42:02.106522\n"
     ]
    }
   ],
   "source": [
    "#Join prior dataset with district ID and Name\n",
    "merge_df=pd.merge(crash_pv,district_key, on='beat_num', how='left')\n",
    "#Declare final data model\n",
    "model=merge_df\n",
    "#print(model)\n",
    "print(\"Model Field List\")\n",
    "\n",
    "n=1\n",
    "for fields in model.columns:\n",
    "    print(str(n)+'.'+fields)\n",
    "    n+=1\n",
    "\n",
    "print('completed at ' + str(datetime.now()))"
   ]
  },
  {
   "cell_type": "markdown",
   "id": "b7007856",
   "metadata": {},
   "source": [
    "### Print to Excel\n",
    "#### Excel ending in \"pbi\" can be imported to business intelligence tool like PowerBI or Tableau for further in-depth analysis. Running this notebook and then refreshing Tableau/PowerBI will ensure the latest data is imported"
   ]
  },
  {
   "cell_type": "code",
   "execution_count": 446,
   "id": "af83e8ef",
   "metadata": {},
   "outputs": [
    {
     "name": "stdout",
     "output_type": "stream",
     "text": [
      "completed at 2023-01-05 22:30:35.196377\n"
     ]
    }
   ],
   "source": [
    "model.to_excel('traffic_study_model_'+today+'.xlsx',index=True)\n",
    "model.to_excel('traffic_study_model_pbi.xlsx',index=True)\n",
    "print('completed at '+str(datetime.now()))"
   ]
  },
  {
   "cell_type": "markdown",
   "id": "dc0c5a2e",
   "metadata": {},
   "source": [
    "# Analysis"
   ]
  },
  {
   "cell_type": "markdown",
   "id": "16ae6e98",
   "metadata": {},
   "source": [
    ">### Severity of Incidents to Pedestrians and Cyclists"
   ]
  },
  {
   "cell_type": "code",
   "execution_count": 494,
   "id": "0ad8ca1a",
   "metadata": {},
   "outputs": [
    {
     "data": {
      "image/png": "[encoded data removed]",
      "text/plain": [
       "<Figure size 432x288 with 1 Axes>"
      ]
     },
     "metadata": {
      "needs_background": "light"
     },
     "output_type": "display_data"
    },
    {
     "name": "stdout",
     "output_type": "stream",
     "text": [
      "[897 484 188 187   7]\n"
     ]
    }
   ],
   "source": [
    "#Cyclist Severity plot\n",
    "temp_df=model[model['person_type']=='BICYCLE']\n",
    "temp_df = temp_df['injury_classification'].value_counts().head(5)\n",
    "temp_df.plot(kind='bar', y='person_id')\n",
    "plt.title('Cyclist Incident Severity ')\n",
    "plt.show()\n",
    "\n",
    "print(temp_df.values)"
   ]
  },
  {
   "cell_type": "code",
   "execution_count": 495,
   "id": "0d89ad5e",
   "metadata": {},
   "outputs": [
    {
     "data": {
      "image/png": "[encoded data removed]",
      "text/plain": [
       "<Figure size 432x288 with 1 Axes>"
      ]
     },
     "metadata": {
      "needs_background": "light"
     },
     "output_type": "display_data"
    },
    {
     "name": "stdout",
     "output_type": "stream",
     "text": [
      "[1527  538  429  349   69]\n"
     ]
    }
   ],
   "source": [
    "#Pedestrian Severity Plot\n",
    "temp_df=model[model['person_type']=='PEDESTRIAN']\n",
    "temp_df = temp_df['injury_classification'].value_counts().head(5)\n",
    "temp_df.plot(kind='bar', y='person_id')\n",
    "plt.title('Pedestrian Incident Severity ')\n",
    "plt.show()\n",
    "print(temp_df.values)"
   ]
  },
  {
   "cell_type": "markdown",
   "id": "6282367f",
   "metadata": {},
   "source": [
    ">### Comparison of incident count between Male and Female"
   ]
  },
  {
   "cell_type": "code",
   "execution_count": 496,
   "id": "303a50be",
   "metadata": {},
   "outputs": [
    {
     "data": {
      "image/png": "[encoded data removed]",
      "text/plain": [
       "<Figure size 432x288 with 1 Axes>"
      ]
     },
     "metadata": {
      "needs_background": "light"
     },
     "output_type": "display_data"
    },
    {
     "name": "stdout",
     "output_type": "stream",
     "text": [
      "[1370  364]\n"
     ]
    }
   ],
   "source": [
    "temp_df=model[model['person_type']=='BICYCLE']\n",
    "\n",
    "#temp_df=temp_df.groupby('sex').count()\n",
    "temp_df = temp_df['sex'].value_counts().head(2)\n",
    "temp_df.plot(kind='bar', y='person_id')\n",
    "plt.title('Male vs Female Cyclist Victims')\n",
    "plt.show()\n",
    "print(temp_df.values)"
   ]
  },
  {
   "cell_type": "code",
   "execution_count": 497,
   "id": "3b4c2c24",
   "metadata": {},
   "outputs": [
    {
     "data": {
      "image/png": "[encoded data removed]",
      "text/plain": [
       "<Figure size 432x288 with 1 Axes>"
      ]
     },
     "metadata": {
      "needs_background": "light"
     },
     "output_type": "display_data"
    },
    {
     "name": "stdout",
     "output_type": "stream",
     "text": [
      "[1538 1327]\n"
     ]
    }
   ],
   "source": [
    "temp_df=model[model['person_type']=='PEDESTRIAN']\n",
    "#temp_df=temp_df.groupby('sex').count()\n",
    "temp_df = temp_df['sex'].value_counts().head(2)\n",
    "temp_df.plot(kind='bar', y='person_id')\n",
    "plt.title('Male vs Female Pedestrian Victims')\n",
    "plt.show()\n",
    "print(temp_df.values)"
   ]
  },
  {
   "cell_type": "markdown",
   "id": "57403ca3",
   "metadata": {},
   "source": [
    ">### Incidents by District"
   ]
  },
  {
   "cell_type": "code",
   "execution_count": 498,
   "id": "0f7cea8a",
   "metadata": {},
   "outputs": [
    {
     "data": {
      "image/png": "[encoded data removed]",
      "text/plain": [
       "<Figure size 432x288 with 1 Axes>"
      ]
     },
     "metadata": {
      "needs_background": "light"
     },
     "output_type": "display_data"
    },
    {
     "name": "stdout",
     "output_type": "stream",
     "text": [
      "[409 405 398 295 293 289 264 245 220 198 197 172 155 154 151 145 136 135\n",
      " 125 124  90  76]\n"
     ]
    }
   ],
   "source": [
    "#Incidents by district\n",
    "temp_df = model['district_name'].value_counts().head(25)\n",
    "temp_df.plot(kind='bar', y='person_id')\n",
    "plt.title('Number of Incidents per District ')\n",
    "plt.show()\n",
    "print(temp_df.values)"
   ]
  },
  {
   "cell_type": "code",
   "execution_count": 499,
   "id": "f4b18923",
   "metadata": {},
   "outputs": [
    {
     "data": {
      "image/png": "[encoded data removed]",
      "text/plain": [
       "<Figure size 432x288 with 1 Axes>"
      ]
     },
     "metadata": {
      "needs_background": "light"
     },
     "output_type": "display_data"
    },
    {
     "name": "stdout",
     "output_type": "stream",
     "text": [
      "[9 7 6 6 5 5 5 5 5 4 4 4 4 3 2 1 1]\n"
     ]
    }
   ],
   "source": [
    "#Fatal incidents by district\n",
    "temp_df=model[model['injury_classification']=='FATAL']\n",
    "temp_df = temp_df['district_name'].value_counts().head(25)\n",
    "temp_df.plot(kind='bar', y='person_id')\n",
    "plt.title('Number of Fatalities per District ')\n",
    "plt.show()\n",
    "print(temp_df.values)"
   ]
  },
  {
   "cell_type": "markdown",
   "id": "e1a81510",
   "metadata": {},
   "source": [
    ">### Incidents by Vehicle Type"
   ]
  },
  {
   "cell_type": "code",
   "execution_count": 500,
   "id": "edc771f0",
   "metadata": {},
   "outputs": [
    {
     "data": {
      "image/png": "[encoded data removed]",
      "text/plain": [
       "<Figure size 432x288 with 1 Axes>"
      ]
     },
     "metadata": {
      "needs_background": "light"
     },
     "output_type": "display_data"
    },
    {
     "name": "stdout",
     "output_type": "stream",
     "text": [
      "[2867  700  522  208  161]\n"
     ]
    }
   ],
   "source": [
    "#Incidents by type of car\n",
    "temp_df = model['vehicle_type'].value_counts().head(5)\n",
    "temp_df.plot(kind='bar', y='person_id')\n",
    "plt.title('Number of Incidents per Vehicle Type ')\n",
    "plt.show()\n",
    "print(temp_df.values)"
   ]
  },
  {
   "cell_type": "code",
   "execution_count": 501,
   "id": "7c325c23",
   "metadata": {},
   "outputs": [
    {
     "data": {
      "image/png": "[encoded data removed]",
      "text/plain": [
       "<Figure size 432x288 with 1 Axes>"
      ]
     },
     "metadata": {
      "needs_background": "light"
     },
     "output_type": "display_data"
    },
    {
     "name": "stdout",
     "output_type": "stream",
     "text": [
      "[46 11  5  3  3]\n"
     ]
    }
   ],
   "source": [
    "#Fatal incidents by type of car\n",
    "temp_df=model[model['injury_classification']=='FATAL']\n",
    "temp_df = temp_df['vehicle_type'].value_counts().head(5)\n",
    "temp_df.plot(kind='bar', y='person_id')\n",
    "plt.title('Number of Fatalities per Vehicle Type ')\n",
    "plt.show()\n",
    "print(temp_df.values)"
   ]
  }
 ],
 "metadata": {
  "kernelspec": {
   "display_name": "Python 3 (ipykernel)",
   "language": "python",
   "name": "python3"
  },
  "language_info": {
   "codemirror_mode": {
    "name": "ipython",
    "version": 3
   },
   "file_extension": ".py",
   "mimetype": "text/x-python",
   "name": "python",
   "nbconvert_exporter": "python",
   "pygments_lexer": "ipython3",
   "version": "3.9.12"
  }
 },
 "nbformat": 4,
 "nbformat_minor": 5
}
