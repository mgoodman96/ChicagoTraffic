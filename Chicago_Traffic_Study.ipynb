{
 "cells": [
  {
   "cell_type": "markdown",
   "id": "84d2d29c",
   "metadata": {},
   "source": [
    "# Chicago Traffic Incidents Involving Cyclists/Pedestrians in Last 12 Months\n",
    "### Prepared by: Michael Goodman\n",
    ">### Data Source: Chicago Data Portal\n",
    ">#### Vehicles API Documentation: https://dev.socrata.com/foundry/data.cityofchicago.org/68nd-jvt3\n",
    ">#### People API Documentation: https://dev.socrata.com/foundry/data.cityofchicago.org/u6pd-qa9d"
   ]
  },
  {
   "cell_type": "markdown",
   "id": "01c73918",
   "metadata": {},
   "source": [
    "#### Libraries to Import"
   ]
  },
  {
   "cell_type": "code",
   "execution_count": null,
   "id": "9ff935e8",
   "metadata": {},
   "outputs": [],
   "source": [
    "#Imports\n",
    "#use pip to install any needed libraries below\n",
    "import pandas as pd\n",
    "import requests\n",
    "import json\n",
    "import time\n",
    "import matplotlib.pyplot as plt\n",
    "from datetime import datetime\n",
    "from datetime import date\n",
    "from dateutil.relativedelta import relativedelta\n",
    "from sodapy import Socrata\n",
    "from cdp_secrets import *"
   ]
  },
  {
   "cell_type": "markdown",
   "id": "ffb7d948",
   "metadata": {},
   "source": [
    "#### Chicago Data Portal Connection"
   ]
  },
  {
   "cell_type": "code",
   "execution_count": null,
   "id": "54c88a8d",
   "metadata": {},
   "outputs": [],
   "source": [
    "#Constants\n",
    "chicago_url=\"data.cityofchicago.org\"\n",
    "vehicle_api_root=\"68nd-jvt3\"\n",
    "people_api_root=\"u6pd-qa9d\"\n",
    "#crash_api_root=\n",
    "\n",
    "#Chicago Data Portal Connection\n",
    "cdp = Socrata(chicago_url,\n",
    "                 token,\n",
    "                 username,\n",
    "                 password)\n"
   ]
  },
  {
   "cell_type": "markdown",
   "id": "d6e17700",
   "metadata": {},
   "source": [
    "#### Create string variables for today and one year ago"
   ]
  },
  {
   "cell_type": "code",
   "execution_count": null,
   "id": "325cec52",
   "metadata": {},
   "outputs": [],
   "source": [
    "#Get dates for the last 12 months\n",
    "today = datetime.now().strftime(\"%Y-%m-%d\")\n",
    "\n",
    "year_ago = (datetime.now() - relativedelta(years=1)).strftime(\"%Y-%m-%d\")\n",
    "print(today)\n",
    "print(year_ago)"
   ]
  },
  {
   "cell_type": "markdown",
   "id": "1afb65d4",
   "metadata": {},
   "source": [
    "#### Queries for API Calls. Filters based on project specification"
   ]
  },
  {
   "cell_type": "code",
   "execution_count": null,
   "id": "06f86524",
   "metadata": {},
   "outputs": [],
   "source": [
    "#limit required for SoQL query, as we are filtering for one year limit is set high to capture all records\n",
    "limit='1000000000'\n",
    "\n",
    "#Filters use SQL structure, some where clauses use a different format. Refer to API Documentation for correct syntax\n",
    "vehicle_filter= \"\"\"Select crash_record_id,crash_date,make,model,vehicle_type \n",
    "                    where vehicle_type is not null and crash_date between '%s' and '%s'\n",
    "                    limit %s\"\"\"%(year_ago,today,limit) \n",
    "\n",
    "people_filter= \"\"\"Select person_id,crash_record_id,crash_date,person_type,age,sex,\n",
    "                injury_classification,pedpedal_action,pedpedal_visibility,pedpedal_location\n",
    "                Where CRASH_DATE between '%s' and '%s' and\n",
    "                (person_type='PEDESTRIAN' or person_type='BICYCLE') limit %s\"\"\"% (year_ago,today,limit)\n",
    "\n",
    "#crash_filter=\n",
    "\n"
   ]
  },
  {
   "cell_type": "markdown",
   "id": "38f5d9f4",
   "metadata": {},
   "source": [
    "#### Create DataFrames from API Results"
   ]
  },
  {
   "cell_type": "code",
   "execution_count": null,
   "id": "5fa196b0",
   "metadata": {},
   "outputs": [],
   "source": [
    "#People Table Results\n",
    "people_results = cdp.get(people_api_root, query=people_filter)\n",
    "\n",
    "# Convert to pandas DataFrame\n",
    "people_df = pd.DataFrame.from_records(people_results)\n",
    "\n",
    "print(people_df)"
   ]
  },
  {
   "cell_type": "code",
   "execution_count": null,
   "id": "4e3dec22",
   "metadata": {},
   "outputs": [],
   "source": [
    "#Vehicle Table Results\n",
    "vehicle_results = cdp.get(vehicle_api_root, query=vehicle_filter)\n",
    "\n",
    "#Convert to pandas DataFrame\n",
    "vehicle_df=pd.DataFrame.from_records(vehicle_results)\n",
    "\n",
    "print(vehicle_df)"
   ]
  },
  {
   "cell_type": "code",
   "execution_count": null,
   "id": "0116e933",
   "metadata": {},
   "outputs": [],
   "source": [
    "#Crash Table Results\n",
    "crash_results = cdp.get(crash_api_root, query=crash_filter)\n",
    "\n",
    "#Convert to pandas DataFrame\n",
    "crash_df=pd.DataFrame.from_records(crash_results)\n",
    "\n",
    "print(crash_df)"
   ]
  },
  {
   "cell_type": "markdown",
   "id": "537112c4",
   "metadata": {},
   "source": [
    "#### Join DataFrames to create project Data Model"
   ]
  },
  {
   "cell_type": "code",
   "execution_count": null,
   "id": "0824c216",
   "metadata": {},
   "outputs": [],
   "source": [
    "combined_df=pd.merge(people_df,vehicle_df[['crash_record_id','vehicle_type']], on='crash_record_id', how='left')\n",
    "print(combined_df)"
   ]
  },
  {
   "cell_type": "code",
   "execution_count": null,
   "id": "95d95d32",
   "metadata": {},
   "outputs": [],
   "source": [
    "combined_df['crash_date']=pd.to_datetime(combined_df['crash_date'])"
   ]
  },
  {
   "cell_type": "markdown",
   "id": "4079ddff",
   "metadata": {},
   "source": [
    "#### Print to Excel"
   ]
  },
  {
   "cell_type": "code",
   "execution_count": null,
   "id": "e212be00",
   "metadata": {},
   "outputs": [],
   "source": [
    "vehicle_df.to_excel('vehicle_draft.xlsx',index=True)"
   ]
  }
 ],
 "metadata": {
  "kernelspec": {
   "display_name": "Python 3 (ipykernel)",
   "language": "python",
   "name": "python3"
  },
  "language_info": {
   "codemirror_mode": {
    "name": "ipython",
    "version": 3
   },
   "file_extension": ".py",
   "mimetype": "text/x-python",
   "name": "python",
   "nbconvert_exporter": "python",
   "pygments_lexer": "ipython3",
   "version": "3.9.12"
  }
 },
 "nbformat": 4,
 "nbformat_minor": 5
}
